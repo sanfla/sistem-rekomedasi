{
 "cells": [
  {
   "cell_type": "code",
   "execution_count": 24,
   "id": "867a67bb",
   "metadata": {},
   "outputs": [],
   "source": [
    "import pandas as pd\n",
    "import numpy as np\n",
    "from sentence_transformers import SentenceTransformer"
   ]
  },
  {
   "cell_type": "code",
   "execution_count": 25,
   "id": "3bb4ac28",
   "metadata": {},
   "outputs": [
    {
     "data": {
      "text/html": [
       "<div>\n",
       "<style scoped>\n",
       "    .dataframe tbody tr th:only-of-type {\n",
       "        vertical-align: middle;\n",
       "    }\n",
       "\n",
       "    .dataframe tbody tr th {\n",
       "        vertical-align: top;\n",
       "    }\n",
       "\n",
       "    .dataframe thead th {\n",
       "        text-align: right;\n",
       "    }\n",
       "</style>\n",
       "<table border=\"1\" class=\"dataframe\">\n",
       "  <thead>\n",
       "    <tr style=\"text-align: right;\">\n",
       "      <th></th>\n",
       "      <th>Title</th>\n",
       "      <th>Authors</th>\n",
       "      <th>Description</th>\n",
       "      <th>Category</th>\n",
       "      <th>Publisher</th>\n",
       "      <th>Publish Date</th>\n",
       "      <th>Price</th>\n",
       "    </tr>\n",
       "  </thead>\n",
       "  <tbody>\n",
       "    <tr>\n",
       "      <th>0</th>\n",
       "      <td>Goat Brothers</td>\n",
       "      <td>By Colton, Larry</td>\n",
       "      <td>NaN</td>\n",
       "      <td>History , General</td>\n",
       "      <td>Doubleday</td>\n",
       "      <td>Friday, January 1, 1993</td>\n",
       "      <td>Price Starting at $8.79</td>\n",
       "    </tr>\n",
       "    <tr>\n",
       "      <th>1</th>\n",
       "      <td>The Missing Person</td>\n",
       "      <td>By Grumbach, Doris</td>\n",
       "      <td>NaN</td>\n",
       "      <td>Fiction , General</td>\n",
       "      <td>Putnam Pub Group</td>\n",
       "      <td>Sunday, March 1, 1981</td>\n",
       "      <td>Price Starting at $4.99</td>\n",
       "    </tr>\n",
       "    <tr>\n",
       "      <th>2</th>\n",
       "      <td>Don't Eat Your Heart Out Cookbook</td>\n",
       "      <td>By Piscatella, Joseph C.</td>\n",
       "      <td>NaN</td>\n",
       "      <td>Cooking , Reference</td>\n",
       "      <td>Workman Pub Co</td>\n",
       "      <td>Thursday, September 1, 1983</td>\n",
       "      <td>Price Starting at $4.99</td>\n",
       "    </tr>\n",
       "    <tr>\n",
       "      <th>3</th>\n",
       "      <td>When Your Corporate Umbrella Begins to Leak: A...</td>\n",
       "      <td>By Davis, Paul D.</td>\n",
       "      <td>NaN</td>\n",
       "      <td>NaN</td>\n",
       "      <td>Natl Pr Books</td>\n",
       "      <td>Monday, April 1, 1991</td>\n",
       "      <td>Price Starting at $4.99</td>\n",
       "    </tr>\n",
       "    <tr>\n",
       "      <th>4</th>\n",
       "      <td>Amy Spangler's Breastfeeding : A Parent's Guide</td>\n",
       "      <td>By Spangler, Amy</td>\n",
       "      <td>NaN</td>\n",
       "      <td>NaN</td>\n",
       "      <td>Amy Spangler</td>\n",
       "      <td>Saturday, February 1, 1997</td>\n",
       "      <td>Price Starting at $5.32</td>\n",
       "    </tr>\n",
       "  </tbody>\n",
       "</table>\n",
       "</div>"
      ],
      "text/plain": [
       "                                               Title  \\\n",
       "0                                      Goat Brothers   \n",
       "1                                 The Missing Person   \n",
       "2                  Don't Eat Your Heart Out Cookbook   \n",
       "3  When Your Corporate Umbrella Begins to Leak: A...   \n",
       "4    Amy Spangler's Breastfeeding : A Parent's Guide   \n",
       "\n",
       "                    Authors Description              Category  \\\n",
       "0          By Colton, Larry         NaN     History , General   \n",
       "1        By Grumbach, Doris         NaN     Fiction , General   \n",
       "2  By Piscatella, Joseph C.         NaN   Cooking , Reference   \n",
       "3         By Davis, Paul D.         NaN                   NaN   \n",
       "4          By Spangler, Amy         NaN                   NaN   \n",
       "\n",
       "          Publisher                 Publish Date                    Price  \n",
       "0         Doubleday      Friday, January 1, 1993  Price Starting at $8.79  \n",
       "1  Putnam Pub Group        Sunday, March 1, 1981  Price Starting at $4.99  \n",
       "2    Workman Pub Co  Thursday, September 1, 1983  Price Starting at $4.99  \n",
       "3     Natl Pr Books        Monday, April 1, 1991  Price Starting at $4.99  \n",
       "4      Amy Spangler   Saturday, February 1, 1997  Price Starting at $5.32  "
      ]
     },
     "execution_count": 25,
     "metadata": {},
     "output_type": "execute_result"
    }
   ],
   "source": [
    "data = pd.read_csv('BooksDataset.csv')\n",
    "data.head()"
   ]
  },
  {
   "cell_type": "code",
   "execution_count": 26,
   "id": "c7693423",
   "metadata": {},
   "outputs": [],
   "source": [
    "data.drop(columns=['Publisher', 'Publish Date', 'Price'], inplace=True)"
   ]
  },
  {
   "cell_type": "code",
   "execution_count": 27,
   "id": "2e8adcb5",
   "metadata": {},
   "outputs": [],
   "source": [
    "data.dropna(subset=['Description'], inplace=True)\n",
    "data.reset_index(drop=True, inplace=True)"
   ]
  },
  {
   "cell_type": "code",
   "execution_count": 28,
   "id": "cb03ec7e",
   "metadata": {},
   "outputs": [
    {
     "data": {
      "text/html": [
       "<div>\n",
       "<style scoped>\n",
       "    .dataframe tbody tr th:only-of-type {\n",
       "        vertical-align: middle;\n",
       "    }\n",
       "\n",
       "    .dataframe tbody tr th {\n",
       "        vertical-align: top;\n",
       "    }\n",
       "\n",
       "    .dataframe thead th {\n",
       "        text-align: right;\n",
       "    }\n",
       "</style>\n",
       "<table border=\"1\" class=\"dataframe\">\n",
       "  <thead>\n",
       "    <tr style=\"text-align: right;\">\n",
       "      <th></th>\n",
       "      <th>Title</th>\n",
       "      <th>Authors</th>\n",
       "      <th>Description</th>\n",
       "      <th>Category</th>\n",
       "    </tr>\n",
       "  </thead>\n",
       "  <tbody>\n",
       "    <tr>\n",
       "      <th>0</th>\n",
       "      <td>Journey Through Heartsongs</td>\n",
       "      <td>By Stepanek, Mattie J. T.</td>\n",
       "      <td>Collects poems written by the eleven-year-old ...</td>\n",
       "      <td>Poetry , General</td>\n",
       "    </tr>\n",
       "    <tr>\n",
       "      <th>1</th>\n",
       "      <td>In Search of Melancholy Baby</td>\n",
       "      <td>By Aksyonov, Vassily, Heim, Michael Henry, and...</td>\n",
       "      <td>The Russian author offers an affectionate chro...</td>\n",
       "      <td>Biography &amp; Autobiography , General</td>\n",
       "    </tr>\n",
       "    <tr>\n",
       "      <th>2</th>\n",
       "      <td>The Dieter's Guide to Weight Loss During Sex</td>\n",
       "      <td>By Smith, Richard</td>\n",
       "      <td>A humor classic, this tongue-in-cheek diet pla...</td>\n",
       "      <td>Health &amp; Fitness , Diet &amp; Nutrition , Diets</td>\n",
       "    </tr>\n",
       "    <tr>\n",
       "      <th>3</th>\n",
       "      <td>Germs : Biological Weapons and America's Secre...</td>\n",
       "      <td>By Miller, Judith, Engelberg, Stephen, and Bro...</td>\n",
       "      <td>Deadly germs sprayed in shopping malls, bomb-l...</td>\n",
       "      <td>Technology &amp; Engineering , Military Science</td>\n",
       "    </tr>\n",
       "    <tr>\n",
       "      <th>4</th>\n",
       "      <td>The Good Book: Reading the Bible with Mind and...</td>\n",
       "      <td>By Gomes, Peter J.</td>\n",
       "      <td>\"The Bible and the social and moral consequenc...</td>\n",
       "      <td>Religion , Biblical Biography , General</td>\n",
       "    </tr>\n",
       "  </tbody>\n",
       "</table>\n",
       "</div>"
      ],
      "text/plain": [
       "                                               Title  \\\n",
       "0                         Journey Through Heartsongs   \n",
       "1                       In Search of Melancholy Baby   \n",
       "2       The Dieter's Guide to Weight Loss During Sex   \n",
       "3  Germs : Biological Weapons and America's Secre...   \n",
       "4  The Good Book: Reading the Bible with Mind and...   \n",
       "\n",
       "                                             Authors  \\\n",
       "0                          By Stepanek, Mattie J. T.   \n",
       "1  By Aksyonov, Vassily, Heim, Michael Henry, and...   \n",
       "2                                  By Smith, Richard   \n",
       "3  By Miller, Judith, Engelberg, Stephen, and Bro...   \n",
       "4                                 By Gomes, Peter J.   \n",
       "\n",
       "                                         Description  \\\n",
       "0  Collects poems written by the eleven-year-old ...   \n",
       "1  The Russian author offers an affectionate chro...   \n",
       "2  A humor classic, this tongue-in-cheek diet pla...   \n",
       "3  Deadly germs sprayed in shopping malls, bomb-l...   \n",
       "4  \"The Bible and the social and moral consequenc...   \n",
       "\n",
       "                                       Category  \n",
       "0                              Poetry , General  \n",
       "1           Biography & Autobiography , General  \n",
       "2   Health & Fitness , Diet & Nutrition , Diets  \n",
       "3   Technology & Engineering , Military Science  \n",
       "4       Religion , Biblical Biography , General  "
      ]
     },
     "execution_count": 28,
     "metadata": {},
     "output_type": "execute_result"
    }
   ],
   "source": [
    "data.head()"
   ]
  },
  {
   "cell_type": "code",
   "execution_count": 29,
   "id": "c687b572",
   "metadata": {},
   "outputs": [
    {
     "data": {
      "text/plain": [
       "(70213, 4)"
      ]
     },
     "execution_count": 29,
     "metadata": {},
     "output_type": "execute_result"
    }
   ],
   "source": [
    "data.shape"
   ]
  },
  {
   "cell_type": "code",
   "execution_count": 30,
   "id": "21890ee0",
   "metadata": {},
   "outputs": [],
   "source": [
    "data.to_csv('BooksDataset_Cleaned.csv', index=False)"
   ]
  },
  {
   "cell_type": "code",
   "execution_count": null,
   "id": "e0dd795f",
   "metadata": {},
   "outputs": [
    {
     "data": {
      "application/vnd.jupyter.widget-view+json": {
       "model_id": "06c424c04d374200a18f8afc9b3d7052",
       "version_major": 2,
       "version_minor": 0
      },
      "text/plain": [
       "Batches:   0%|          | 0/2195 [00:00<?, ?it/s]"
      ]
     },
     "metadata": {},
     "output_type": "display_data"
    },
    {
     "name": "stdout",
     "output_type": "stream",
     "text": [
      "✅ Embedding berhasil disimpan ke 'book_embeddings.npy'\n"
     ]
    }
   ],
   "source": [
    "df = pd.read_csv(\"BooksDataset_Cleaned.csv\")\n",
    "\n",
    "model = SentenceTransformer(\"all-MiniLM-L6-v2\")\n",
    "\n",
    "embeddings = model.encode(df[\"Description\"].tolist(), show_progress_bar=True)\n",
    "\n",
    "np.save(\"book_embeddings.npy\", embeddings)\n",
    "np.save(\"book_embeddings_part1.npy\", embeddings[:1000])\n",
    "np.save(\"book_embeddings_part2.npy\", embeddings[1000:])\n",
    "\n",
    "\n",
    "df.to_csv(\"BooksDataset_Index.csv\", index=False)\n",
    "\n",
    "print(\"✅ Embedding berhasil disimpan ke 'book_embeddings.npy'\")"
   ]
  }
 ],
 "metadata": {
  "kernelspec": {
   "display_name": "Python 3",
   "language": "python",
   "name": "python3"
  },
  "language_info": {
   "codemirror_mode": {
    "name": "ipython",
    "version": 3
   },
   "file_extension": ".py",
   "mimetype": "text/x-python",
   "name": "python",
   "nbconvert_exporter": "python",
   "pygments_lexer": "ipython3",
   "version": "3.11.9"
  }
 },
 "nbformat": 4,
 "nbformat_minor": 5
}
